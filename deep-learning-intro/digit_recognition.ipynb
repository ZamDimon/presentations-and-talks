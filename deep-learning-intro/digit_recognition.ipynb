{
 "cells": [
  {
   "cell_type": "markdown",
   "id": "539e4375-24cb-47db-b0e8-375b62eba57a",
   "metadata": {},
   "source": [
    "# Step 1. Importing packages"
   ]
  },
  {
   "cell_type": "code",
   "execution_count": 1,
   "id": "5f4762eb-719d-4d95-bb5e-b6a135250578",
   "metadata": {},
   "outputs": [
    {
     "name": "stdout",
     "output_type": "stream",
     "text": [
      "Using TensorFlow 2.12.0\n"
     ]
    }
   ],
   "source": [
    "import tensorflow as tf # For defining and training the neural network\n",
    "import numpy as np # For convenient use of high-dimensional arrays\n",
    "from keras import datasets # For loading the MNIST dataset\n",
    "\n",
    "# To make things look easy\n",
    "from utils import show_image, to_vectors\n",
    "\n",
    "print(f'Using TensorFlow {tf.__version__}')\n",
    "np.set_printoptions(precision=3)"
   ]
  },
  {
   "cell_type": "markdown",
   "id": "25089126-262b-4603-ba81-27b3271e591a",
   "metadata": {},
   "source": [
    "# Step 2. Loading and displaying the MNIST dataset"
   ]
  },
  {
   "cell_type": "code",
   "execution_count": 2,
   "id": "2a3c2ceb-7d85-4e44-b62c-26acd73e8464",
   "metadata": {},
   "outputs": [],
   "source": [
    "(X, y), _ = datasets.mnist.load_data()\n",
    "\n",
    "# To have activations in range (0, 1), \n",
    "# we divide everything by 255.0 (since grayscale colors \n",
    "# are specified in uint8 format which ranges from 0 to 255\n",
    "X = X / 255.0"
   ]
  },
  {
   "cell_type": "code",
   "execution_count": 3,
   "id": "be1a42a7-bd30-4a2a-8ee5-909cf3477440",
   "metadata": {},
   "outputs": [
    {
     "data": {
      "image/png": "[encoded data removed]",
      "text/plain": [
       "<Figure size 640x480 with 1 Axes>"
      ]
     },
     "metadata": {},
     "output_type": "display_data"
    }
   ],
   "source": [
    "index = 30 # Put your own index to play around\n",
    "show_image(X[index], y[index])"
   ]
  },
  {
   "cell_type": "markdown",
   "id": "7afb7434-73df-42d0-9db2-f068f22ea087",
   "metadata": {},
   "source": [
    "# Step 3. Defining the neural network structure"
   ]
  },
  {
   "cell_type": "code",
   "execution_count": 4,
   "id": "7f052f96-f4f9-4189-b46b-dcbf517905fc",
   "metadata": {},
   "outputs": [
    {
     "name": "stdout",
     "output_type": "stream",
     "text": [
      "Model: \"sequential\"\n",
      "_________________________________________________________________\n",
      " Layer (type)                Output Shape              Param #   \n",
      "=================================================================\n",
      " flatten (Flatten)           (None, 784)               0         \n",
      "                                                                 \n",
      " hidden_layer (Dense)        (None, 32)                25120     \n",
      "                                                                 \n",
      " output_layer (Dense)        (None, 10)                330       \n",
      "                                                                 \n",
      "=================================================================\n",
      "Total params: 25,450\n",
      "Trainable params: 25,450\n",
      "Non-trainable params: 0\n",
      "_________________________________________________________________\n"
     ]
    }
   ],
   "source": [
    "neural_network = tf.keras.models.Sequential([\n",
    "    tf.keras.layers.Flatten(input_shape=(28,28)),\n",
    "    tf.keras.layers.Dense(\n",
    "        32,\n",
    "        name='hidden_layer',\n",
    "        activation='sigmoid'\n",
    "    ),\n",
    "    tf.keras.layers.Dense(\n",
    "        10,  \n",
    "        name=\"output_layer\",\n",
    "        activation='sigmoid'\n",
    "    )\n",
    "])\n",
    "neural_network.summary()"
   ]
  },
  {
   "cell_type": "code",
   "execution_count": 5,
   "id": "2ffa99f0-d19d-4e5f-b609-bb1793824ba7",
   "metadata": {},
   "outputs": [
    {
     "name": "stdout",
     "output_type": "stream",
     "text": [
      "label in the original format: 5\n",
      "label in the vector format: [0. 0. 0. 0. 0. 1. 0. 0. 0. 0.]\n"
     ]
    }
   ],
   "source": [
    "y_vectors = to_vectors(y)\n",
    "print(f'label in the original format: {y[0]}')\n",
    "print(f'label in the vector format: {y_vectors[0]}')"
   ]
  },
  {
   "cell_type": "code",
   "execution_count": 6,
   "id": "c9aa97ae-e66a-4669-b01a-c30b6f2276ff",
   "metadata": {},
   "outputs": [
    {
     "name": "stdout",
     "output_type": "stream",
     "text": [
      "Epoch 1/30\n",
      "  92/1500 [>.............................] - ETA: 0s - loss: 0.2664  "
     ]
    },
    {
     "name": "stderr",
     "output_type": "stream",
     "text": [
      "2024-01-18 22:58:13.607291: W tensorflow/tsl/platform/profile_utils/cpu_utils.cc:128] Failed to get CPU frequency: 0 Hz\n"
     ]
    },
    {
     "name": "stdout",
     "output_type": "stream",
     "text": [
      "1500/1500 [==============================] - 1s 640us/step - loss: 0.2051 - val_loss: 0.1609\n",
      "Epoch 2/30\n",
      "1500/1500 [==============================] - 1s 572us/step - loss: 0.1389 - val_loss: 0.1221\n",
      "Epoch 3/30\n",
      "1500/1500 [==============================] - 1s 576us/step - loss: 0.1117 - val_loss: 0.1030\n",
      "Epoch 4/30\n",
      "1500/1500 [==============================] - 1s 572us/step - loss: 0.0976 - val_loss: 0.0926\n",
      "Epoch 5/30\n",
      "1500/1500 [==============================] - 1s 573us/step - loss: 0.0894 - val_loss: 0.0861\n",
      "Epoch 6/30\n",
      "1500/1500 [==============================] - 1s 581us/step - loss: 0.0840 - val_loss: 0.0814\n",
      "Epoch 7/30\n",
      "1500/1500 [==============================] - 1s 586us/step - loss: 0.0797 - val_loss: 0.0774\n",
      "Epoch 8/30\n",
      "1500/1500 [==============================] - 1s 591us/step - loss: 0.0759 - val_loss: 0.0736\n",
      "Epoch 9/30\n",
      "1500/1500 [==============================] - 1s 620us/step - loss: 0.0723 - val_loss: 0.0702\n",
      "Epoch 10/30\n",
      "1500/1500 [==============================] - 1s 650us/step - loss: 0.0692 - val_loss: 0.0673\n",
      "Epoch 11/30\n",
      "1500/1500 [==============================] - 1s 579us/step - loss: 0.0663 - val_loss: 0.0642\n",
      "Epoch 12/30\n",
      "1500/1500 [==============================] - 1s 582us/step - loss: 0.0633 - val_loss: 0.0613\n",
      "Epoch 13/30\n",
      "1500/1500 [==============================] - 1s 575us/step - loss: 0.0606 - val_loss: 0.0587\n",
      "Epoch 14/30\n",
      "1500/1500 [==============================] - 1s 575us/step - loss: 0.0583 - val_loss: 0.0565\n",
      "Epoch 15/30\n",
      "1500/1500 [==============================] - 1s 576us/step - loss: 0.0562 - val_loss: 0.0544\n",
      "Epoch 16/30\n",
      "1500/1500 [==============================] - 1s 573us/step - loss: 0.0542 - val_loss: 0.0524\n",
      "Epoch 17/30\n",
      "1500/1500 [==============================] - 1s 572us/step - loss: 0.0524 - val_loss: 0.0506\n",
      "Epoch 18/30\n",
      "1500/1500 [==============================] - 1s 568us/step - loss: 0.0507 - val_loss: 0.0489\n",
      "Epoch 19/30\n",
      "1500/1500 [==============================] - 1s 568us/step - loss: 0.0490 - val_loss: 0.0472\n",
      "Epoch 20/30\n",
      "1500/1500 [==============================] - 1s 570us/step - loss: 0.0474 - val_loss: 0.0456\n",
      "Epoch 21/30\n",
      "1500/1500 [==============================] - 1s 573us/step - loss: 0.0459 - val_loss: 0.0441\n",
      "Epoch 22/30\n",
      "1500/1500 [==============================] - 1s 575us/step - loss: 0.0445 - val_loss: 0.0428\n",
      "Epoch 23/30\n",
      "1500/1500 [==============================] - 1s 576us/step - loss: 0.0432 - val_loss: 0.0415\n",
      "Epoch 24/30\n",
      "1500/1500 [==============================] - 1s 578us/step - loss: 0.0420 - val_loss: 0.0403\n",
      "Epoch 25/30\n",
      "1500/1500 [==============================] - 1s 574us/step - loss: 0.0409 - val_loss: 0.0392\n",
      "Epoch 26/30\n",
      "1500/1500 [==============================] - 1s 573us/step - loss: 0.0398 - val_loss: 0.0381\n",
      "Epoch 27/30\n",
      "1500/1500 [==============================] - 1s 574us/step - loss: 0.0388 - val_loss: 0.0371\n",
      "Epoch 28/30\n",
      "1500/1500 [==============================] - 1s 570us/step - loss: 0.0379 - val_loss: 0.0362\n",
      "Epoch 29/30\n",
      "1500/1500 [==============================] - 1s 565us/step - loss: 0.0370 - val_loss: 0.0353\n",
      "Epoch 30/30\n",
      "1500/1500 [==============================] - 1s 570us/step - loss: 0.0361 - val_loss: 0.0344\n"
     ]
    },
    {
     "data": {
      "text/plain": [
       "<keras.callbacks.History at 0x147b15f90>"
      ]
     },
     "execution_count": 6,
     "metadata": {},
     "output_type": "execute_result"
    }
   ],
   "source": [
    "optimizer = tf.keras.optimizers.legacy.Adam(learning_rate=1e-5)\n",
    "neural_network.compile(loss='mse', optimizer=optimizer)\n",
    "neural_network.fit(\n",
    "    X, \n",
    "    y_vectors,\n",
    "    epochs=30,\n",
    "    verbose=1,\n",
    "    validation_split=0.2\n",
    ")"
   ]
  },
  {
   "cell_type": "code",
   "execution_count": 8,
   "id": "93f902d0-8a2b-411b-96ab-f5bc4cebe0a8",
   "metadata": {},
   "outputs": [
    {
     "name": "stdout",
     "output_type": "stream",
     "text": [
      "Prediction in raw format: [[0.056 0.174 0.115 0.167 0.09  0.391 0.038 0.02  0.303 0.039]]\n"
     ]
    },
    {
     "data": {
      "image/png": "[encoded data removed]",
      "text/plain": [
       "<Figure size 640x480 with 1 Axes>"
      ]
     },
     "metadata": {},
     "output_type": "display_data"
    }
   ],
   "source": [
    "# Making prediction\n",
    "index = 65 # Put your own index to play around\n",
    "prediction = neural_network.predict(np.expand_dims(X[index], axis=0), verbose=0)\n",
    "\n",
    "# Displaying results\n",
    "print(f'Prediction in raw format: {prediction}')\n",
    "show_image(X[index], np.argmax(prediction[0]))"
   ]
  },
  {
   "cell_type": "code",
   "execution_count": null,
   "id": "ec87c7af-d200-4c99-8539-7df8ecdb2ca9",
   "metadata": {},
   "outputs": [],
   "source": []
  }
 ],
 "metadata": {
  "kernelspec": {
   "display_name": "Python 3 (ipykernel)",
   "language": "python",
   "name": "python3"
  },
  "language_info": {
   "codemirror_mode": {
    "name": "ipython",
    "version": 3
   },
   "file_extension": ".py",
   "mimetype": "text/x-python",
   "name": "python",
   "nbconvert_exporter": "python",
   "pygments_lexer": "ipython3",
   "version": "3.10.13"
  }
 },
 "nbformat": 4,
 "nbformat_minor": 5
}
